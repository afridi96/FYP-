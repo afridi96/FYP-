{
 "cells": [
  {
   "cell_type": "code",
   "execution_count": 95,
   "metadata": {},
   "outputs": [],
   "source": [
    "import pandas as pd\n",
    "import sklearn as sk\n",
    "import numpy as np\n",
    "import pickle\n",
    "from sklearn.linear_model import LogisticRegression\n",
    "from sklearn.metrics import confusion_matrix"
   ]
  },
  {
   "cell_type": "code",
   "execution_count": 80,
   "metadata": {},
   "outputs": [],
   "source": [
    "data = pd.read_csv('data.csv', sep =',', header=0)"
   ]
  },
  {
   "cell_type": "code",
   "execution_count": 98,
   "metadata": {},
   "outputs": [
    {
     "name": "stdout",
     "output_type": "stream",
     "text": [
      "Class ratio: 0.4963963963963964\n",
      "Index(['com.android.vending.BILLING', 'android.permission.SEND_SMS',\n",
      "       'android.permission.RECEIVE_SMS', 'android.permission.READ_PHONE_STATE',\n",
      "       'com.google.android.c2dm.permission.RECEIVE',\n",
      "       'com.google.android.c2dm.intent.RECEIVE', 'db', 'class'],\n",
      "      dtype='object')\n"
     ]
    }
   ],
   "source": [
    "count_positive = len(data[data['class']==1])\n",
    "count_negative = len(data[data['class']==0])\n",
    "print('Class ratio:',  count_positive/(count_positive + count_negative))\n",
    "\n",
    "mean_data = data.groupby('class').mean()\n",
    "for i in mean_data.columns:\n",
    "    if abs(mean_data[i][0] - mean_data[i][1]) < 0.3:\n",
    "        data=data.drop(i,axis=1)\n",
    "print(data.columns)"
   ]
  },
  {
   "cell_type": "code",
   "execution_count": 93,
   "metadata": {},
   "outputs": [],
   "source": [
    "y = data.iloc[:,7]\n",
    "x = data.iloc[:,:7]\n",
    "x_train, x_test, y_train, y_test = sk.model_selection.train_test_split(x,y, test_size=0.2)"
   ]
  },
  {
   "cell_type": "code",
   "execution_count": 118,
   "metadata": {},
   "outputs": [],
   "source": [
    "class LogisticRegression:\n",
    "    \n",
    "    def __init__(self,lr=0.001, iters=2000):\n",
    "        self.lr = lr\n",
    "        self.iters = iters\n",
    "        self.weights = None\n",
    "        self.bias = 0\n",
    "        \n",
    "    def fit(self, X, labels):\n",
    "        N,features = X.shape\n",
    "        self.weights = np.zeros(features)\n",
    "        self.bias = 0\n",
    "        \n",
    "        for _ in range (self.iters):\n",
    "            y_pred = self._sigmoid(np.dot(X, self.weights) + self.bias)\n",
    "            dw = (1/N) * np.dot(X.T, (y_pred - labels))\n",
    "            db = (1/N) * np.sum(y_pred - labels)\n",
    "            \n",
    "            self.weights -= self.lr * dw\n",
    "            self.bias -= self.lr * db\n",
    "    \n",
    "    def predict(self, x):\n",
    "        y_pred = self._sigmoid(np.dot(x, self.weights) + self.bias)\n",
    "        y_class = [1 if i > 0.5 else 0 for i in y_pred]\n",
    "        return y_class\n",
    "    \n",
    "    def _sigmoid(self,z):\n",
    "        return 1.0 / 1 + np.exp(-z)"
   ]
  },
  {
   "cell_type": "code",
   "execution_count": null,
   "metadata": {},
   "outputs": [],
   "source": [
    "#def predict(features,weights):\n",
    "#    z= np.dot(features, weights)\n",
    "#    return 1.0 / 1 + np.exp(-z)\n",
    "\n",
    "#def cost_function(features, labels, weights):\n",
    "#    predictions = predict(features, weights)\n",
    "#    class1_cost = -labels*np.log(predictions)\n",
    "#    total_cost =  (class1_cost - class2_cost)\n",
    "#    return total_cost.sum()/len(labels)\n",
    "\n",
    "#def gradient_descent(features, labels, weights, lr):\n",
    "    \n",
    "\n",
    "#def LogisticRegression(x,y):\n",
    "    "
   ]
  },
  {
   "cell_type": "code",
   "execution_count": 119,
   "metadata": {},
   "outputs": [
    {
     "name": "stderr",
     "output_type": "stream",
     "text": [
      "C:\\Users\\donaf\\Anaconda3\\lib\\site-packages\\ipykernel_launcher.py:28: RuntimeWarning: overflow encountered in exp\n"
     ]
    },
    {
     "name": "stdout",
     "output_type": "stream",
     "text": [
      "[[108   0]\n",
      " [114   0]]\n"
     ]
    }
   ],
   "source": [
    "#LR = LogisticRegression().fit(x_train, y_train)\n",
    "Model = LogisticRegression()\n",
    "Model.fit(x_train, y_train)\n",
    "y_pred = Model.predict(x_test)\n",
    "print(confusion_matrix(y_test, y_pred))\n",
    "pickle.dump(Model,open('model', 'wb'))"
   ]
  }
 ],
 "metadata": {
  "kernelspec": {
   "display_name": "Python 3",
   "language": "python",
   "name": "python3"
  },
  "language_info": {
   "codemirror_mode": {
    "name": "ipython",
    "version": 3
   },
   "file_extension": ".py",
   "mimetype": "text/x-python",
   "name": "python",
   "nbconvert_exporter": "python",
   "pygments_lexer": "ipython3",
   "version": "3.6.5"
  }
 },
 "nbformat": 4,
 "nbformat_minor": 2
}
