{
 "cells": [
  {
   "cell_type": "code",
   "execution_count": 95,
   "metadata": {},
   "outputs": [],
   "source": [
    "import pandas as pd\n",
    "import sklearn as sk\n",
    "import numpy as np\n",
    "import pickle\n",
    "from sklearn.linear_model import LogisticRegression\n",
    "from sklearn.metrics import confusion_matrix"
   ]
  },
  {
   "cell_type": "code",
   "execution_count": 80,
   "metadata": {},
   "outputs": [],
   "source": [
    "data = pd.read_csv('data.csv', sep =',', header=0)"
   ]
  },
  {
   "cell_type": "code",
   "execution_count": 91,
   "metadata": {},
   "outputs": [
    {
     "name": "stdout",
     "output_type": "stream",
     "text": [
      "Class ratio: 0.4963963963963964\n",
      "Index(['com.android.vending.BILLING', 'android.permission.SEND_SMS',\n",
      "       'android.permission.RECEIVE_SMS', 'android.permission.READ_PHONE_STATE',\n",
      "       'com.google.android.c2dm.permission.RECEIVE',\n",
      "       'com.google.android.c2dm.intent.RECEIVE', 'db', 'class'],\n",
      "      dtype='object')\n"
     ]
    }
   ],
   "source": [
    "count_positive = len(data[data['class']==1])\n",
    "count_negative = len(data[data['class']==0])\n",
    "print('Class ratio:',  count_positive/(count_positive + count_negative))\n",
    "\n",
    "mean_data = data.groupby('class').mean()\n",
    "for i in mean_data.columns:\n",
    "    if abs(mean_data[i][0] - mean_data[i][1]) < 0.3:\n",
    "        data=data.drop(i,axis=1)\n",
    "print(data.columns)"
   ]
  },
  {
   "cell_type": "code",
   "execution_count": 93,
   "metadata": {},
   "outputs": [],
   "source": [
    "y = data.iloc[:,7]\n",
    "x = data.iloc[:,:7]\n",
    "x_train, x_test, y_train, y_test = sk.model_selection.train_test_split(x,y, test_size=0.2)"
   ]
  },
  {
   "cell_type": "code",
   "execution_count": null,
   "metadata": {},
   "outputs": [],
   "source": [
    "def predict(features,weights):\n",
    "    z= np.dot(features, weights)\n",
    "    return sigmoid(z)\n",
    "\n",
    "def cost_function(features, Labels, weights):\n",
    "    \n",
    "def LogisticRegression(x,y):\n",
    "    "
   ]
  },
  {
   "cell_type": "code",
   "execution_count": 94,
   "metadata": {},
   "outputs": [
    {
     "name": "stdout",
     "output_type": "stream",
     "text": [
      "0.9099\n",
      "[[102   6]\n",
      " [ 14 100]]\n"
     ]
    }
   ],
   "source": [
    "LR = sk.linear_model.LogisticRegression().fit(x_train, y_train)\n",
    "print(round(LR.score(x_test,y_test), 4))\n",
    "\n",
    "y_pred = LR.predict(x_test)\n",
    "print(confusion_matrix(y_test, y_pred))\n",
    "pickle.dump(LR,open('model', 'wb'))"
   ]
  }
 ],
 "metadata": {
  "kernelspec": {
   "display_name": "Python 3",
   "language": "python",
   "name": "python3"
  },
  "language_info": {
   "codemirror_mode": {
    "name": "ipython",
    "version": 3
   },
   "file_extension": ".py",
   "mimetype": "text/x-python",
   "name": "python",
   "nbconvert_exporter": "python",
   "pygments_lexer": "ipython3",
   "version": "3.6.5"
  }
 },
 "nbformat": 4,
 "nbformat_minor": 2
}
